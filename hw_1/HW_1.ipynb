{
 "cells": [
  {
   "cell_type": "markdown",
   "id": "a5cc7210",
   "metadata": {},
   "source": [
    "## Условие 2:"
   ]
  },
  {
   "cell_type": "markdown",
   "id": "7f3bb096",
   "metadata": {},
   "source": [
    "На складе лежат разные фрукты в разном количестве.  \n",
    "Нужно написать функцию, которая на вход принимает любое количество названий фруктов и их количество, а возвращает общее количество фруктов на складе"
   ]
  },
  {
   "cell_type": "code",
   "execution_count": 26,
   "id": "79284b54",
   "metadata": {},
   "outputs": [],
   "source": [
    "def veget(**kwargs):\n",
    "    summ = 0\n",
    "    for key, value in kwargs.items():\n",
    "        summ += value\n",
    "    return summ"
   ]
  },
  {
   "cell_type": "code",
   "execution_count": 27,
   "id": "0cd9142f",
   "metadata": {},
   "outputs": [
    {
     "name": "stdout",
     "output_type": "stream",
     "text": [
      "Общее количество овощей 18000\n"
     ]
    }
   ],
   "source": [
    "a = veget(морковь = 5000 , картофель = 11000, капуста = 2000)\n",
    "print(f\"Общее количество овощей {a}\")"
   ]
  },
  {
   "cell_type": "markdown",
   "id": "467496ba",
   "metadata": {},
   "source": [
    "## Условие 3"
   ]
  },
  {
   "cell_type": "markdown",
   "id": "da68ff46",
   "metadata": {},
   "source": [
    "Дан список с затратами на рекламу. Но в данных есть ошибки, некоторые затраты имеют отрицательную величину. Удалите такие значения из списка и посчитайте суммарные затраты"
   ]
  },
  {
   "cell_type": "code",
   "execution_count": 28,
   "id": "77d9afb4",
   "metadata": {},
   "outputs": [
    {
     "data": {
      "text/plain": [
       "1425"
      ]
     },
     "execution_count": 28,
     "metadata": {},
     "output_type": "execute_result"
    }
   ],
   "source": [
    "exp = [100, 125, -90, 345, 655, -1, 0, 200]\n",
    "cost = sum([i if i > 0 else 0 for i in exp])\n",
    "cost"
   ]
  },
  {
   "cell_type": "markdown",
   "id": "61f50386",
   "metadata": {},
   "source": [
    "## Условие 4"
   ]
  },
  {
   "cell_type": "markdown",
   "id": "bf5724aa",
   "metadata": {},
   "source": [
    "Даны два списка."
   ]
  },
  {
   "cell_type": "code",
   "execution_count": 29,
   "id": "dc100da4",
   "metadata": {},
   "outputs": [],
   "source": [
    "date = ['2021-09-14', '2021-12-15', '2021-09-08', '2021-12-05', '2021-10-09', '2021-09-30', '2021-12-22', '2021-11-29', '2021-12-24', '2021-11-26', '2021-10-27', '2021-12-18', '2021-11-09', '2021-11-23', '2021-09-27', '2021-10-02', '2021-12-27', '2021-09-20', '2021-12-13', '2021-11-01', '2021-11-09', '2021-12-06', '2021-12-08', '2021-10-09', '2021-10-31', '2021-09-30', '2021-11-09', '2021-12-13', '2021-10-26', '2021-12-09']\n",
    "value = [1270, 8413, 9028, 3703, 5739, 4095, 295, 4944, 5723, 3701, 4471, 651, 7037, 4274, 6275, 4988, 6930, 2971, 6592, 2004, 2822, 519, 3406, 2732, 5015, 2008, 316, 6333, 5700, 2887]"
   ]
  },
  {
   "cell_type": "markdown",
   "id": "7d7e27cc",
   "metadata": {},
   "source": [
    "### 4.1 Найдите, какая выручка у компании в ноябре"
   ]
  },
  {
   "cell_type": "code",
   "execution_count": 30,
   "id": "743a7e0c",
   "metadata": {},
   "outputs": [
    {
     "name": "stdout",
     "output_type": "stream",
     "text": [
      "15239\n"
     ]
    }
   ],
   "source": [
    "sales_by_month = [{date[i]: value[i] for i in range(len(date))}]\n",
    "november = sum([value[date] for value in sales_by_month for date in value if date.find('-11-') != -1])\n",
    "print(november)"
   ]
  },
  {
   "cell_type": "markdown",
   "id": "870aee30",
   "metadata": {},
   "source": [
    "### 4.2 Найдите выручку компании в зависимости от месяца"
   ]
  },
  {
   "cell_type": "markdown",
   "id": "91e7f40c",
   "metadata": {},
   "source": [
    "Для этого напишите функцию, которая на вход принимает список с датами и список с выручкой, а на выходе словарь, где ключи - это месяцы, а значения - это выручка.\n",
    "Используйте аннотирование типов."
   ]
  },
  {
   "cell_type": "code",
   "execution_count": 31,
   "id": "7b940384",
   "metadata": {},
   "outputs": [],
   "source": [
    "def month(number_of_month: str , date: list, value: list)-> int:\n",
    "    sum_data = [{date[i]: value[i] for i in range(len(date))}]\n",
    "    sales= sum([value[date] for value in sum_data for date in value if date.find('-' + number_of_month + '-') != -1])\n",
    "    return sales"
   ]
  },
  {
   "cell_type": "code",
   "execution_count": 32,
   "id": "b409e9e1",
   "metadata": {},
   "outputs": [
    {
     "name": "stdout",
     "output_type": "stream",
     "text": [
      "22906\n"
     ]
    }
   ],
   "source": [
    "print(month('10', date, value))"
   ]
  }
 ],
 "metadata": {
  "kernelspec": {
   "display_name": "Python 3 (ipykernel)",
   "language": "python",
   "name": "python3"
  },
  "language_info": {
   "codemirror_mode": {
    "name": "ipython",
    "version": 3
   },
   "file_extension": ".py",
   "mimetype": "text/x-python",
   "name": "python",
   "nbconvert_exporter": "python",
   "pygments_lexer": "ipython3",
   "version": "3.9.12"
  }
 },
 "nbformat": 4,
 "nbformat_minor": 5
}
